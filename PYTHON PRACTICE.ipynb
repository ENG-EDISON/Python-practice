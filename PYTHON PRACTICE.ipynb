{
 "cells": [
  {
   "cell_type": "code",
   "execution_count": null,
   "metadata": {},
   "outputs": [],
   "source": [
    "#PYTHON PROGRAMMING"
   ]
  },
  {
   "cell_type": "code",
   "execution_count": null,
   "metadata": {},
   "outputs": [],
   "source": [
    "#Variables*"
   ]
  },
  {
   "cell_type": "code",
   "execution_count": 41,
   "metadata": {},
   "outputs": [
    {
     "name": "stdout",
     "output_type": "stream",
     "text": [
      "156\n",
      "25\n",
      "-1\n",
      "0.9230769230769231\n",
      "12\n"
     ]
    }
   ],
   "source": [
    "a=12;\n",
    "b=13;\n",
    "print(a*b);\n",
    "print(a+b);\n",
    "print(a-b);\n",
    "print(a/b);\n",
    "print(a%b);\n"
   ]
  },
  {
   "cell_type": "code",
   "execution_count": null,
   "metadata": {},
   "outputs": [],
   "source": [
    "#Escape character nad formatting"
   ]
  },
  {
   "cell_type": "code",
   "execution_count": 2,
   "metadata": {},
   "outputs": [
    {
     "name": "stdout",
     "output_type": "stream",
     "text": [
      "hello world..."
     ]
    }
   ],
   "source": [
    "print(\"hello world\",end='...');"
   ]
  },
  {
   "cell_type": "code",
   "execution_count": 4,
   "metadata": {},
   "outputs": [
    {
     "name": "stdout",
     "output_type": "stream",
     "text": [
      "hello world\thello world***"
     ]
    }
   ],
   "source": [
    "print(\"hello world\",end='\\t');\n",
    "print(\"hello world\",end='***');"
   ]
  },
  {
   "cell_type": "code",
   "execution_count": null,
   "metadata": {},
   "outputs": [],
   "source": [
    "#LOOP IN PYTHON"
   ]
  },
  {
   "cell_type": "code",
   "execution_count": 15,
   "metadata": {},
   "outputs": [
    {
     "name": "stdout",
     "output_type": "stream",
     "text": [
      "\n",
      "\n",
      "*\n",
      "\n",
      "**\n",
      "\n",
      "***\n",
      "\n",
      "****\n",
      "\n",
      "*****\n",
      "\n",
      "******\n",
      "\n",
      "*******\n",
      "\n",
      "********\n",
      "\n",
      "*********\n",
      "\n"
     ]
    }
   ],
   "source": [
    "for i in range (0,10):\n",
    "    for m in range (0,i):\n",
    "        print('*',end='');\n",
    "    print('\\n')\n",
    "        "
   ]
  },
  {
   "cell_type": "code",
   "execution_count": 4,
   "metadata": {},
   "outputs": [
    {
     "name": "stdout",
     "output_type": "stream",
     "text": [
      "* * * * * * * * * * \n",
      "* * * * * * * * * \n",
      "* * * * * * * * \n",
      "* * * * * * * \n",
      "* * * * * * \n",
      "* * * * * \n",
      "* * * * \n",
      "* * * \n",
      "* * \n",
      "* \n"
     ]
    }
   ],
   "source": [
    "for i in range(10,0,-1):\n",
    "    for k in range(i):\n",
    "        print(\"*\",end=\" \");\n",
    "    print();"
   ]
  },
  {
   "cell_type": "code",
   "execution_count": 32,
   "metadata": {},
   "outputs": [
    {
     "name": "stdout",
     "output_type": "stream",
     "text": [
      "**********\n",
      "*********\n",
      "********\n",
      "*******\n",
      "******\n",
      "*****\n",
      "****\n",
      "***\n",
      "**\n",
      "*\n"
     ]
    }
   ],
   "source": [
    "for i in range(10,0,-1):\n",
    "    for k in range(i):\n",
    "        print(\"*\",end=\"\");\n",
    "    print();"
   ]
  },
  {
   "cell_type": "code",
   "execution_count": 33,
   "metadata": {},
   "outputs": [],
   "source": [
    "#INPUTS AND RANDOM NUMBERS IN PYTHON PRGRAM\n",
    "from random import randint"
   ]
  },
  {
   "cell_type": "code",
   "execution_count": 34,
   "metadata": {},
   "outputs": [
    {
     "name": "stdout",
     "output_type": "stream",
     "text": [
      "3\n"
     ]
    }
   ],
   "source": [
    "x=randint(1,15);\n",
    "print(x)"
   ]
  },
  {
   "cell_type": "code",
   "execution_count": 64,
   "metadata": {},
   "outputs": [
    {
     "name": "stdout",
     "output_type": "stream",
     "text": [
      "ENTER NUMBER BETWEEN O AND 5\n",
      "5\n",
      "YOU WON \n"
     ]
    }
   ],
   "source": [
    "num=eval(input(\"ENTER NUMBER BETWEEN O AND 5\\n\"))\n",
    "X=randint(1,5);\n",
    "if X==num:\n",
    "    print(\"YOU WON \")\n",
    "else:\n",
    "    print(\"YOU LOST the number is \",X)\n",
    "    "
   ]
  },
  {
   "cell_type": "code",
   "execution_count": 65,
   "metadata": {},
   "outputs": [],
   "source": [
    "#COUNTING IN PYTHON"
   ]
  },
  {
   "cell_type": "code",
   "execution_count": 67,
   "metadata": {},
   "outputs": [
    {
     "name": "stdout",
     "output_type": "stream",
     "text": [
      "enter number6\n",
      "enter number7\n",
      "enter number5\n",
      "enter number7\n",
      "enter number7\n",
      "enter number8\n",
      "enter number5\n",
      "enter number4\n",
      "enter number6\n",
      "enter number7\n",
      "There are  7 numbers greater than 5\n"
     ]
    }
   ],
   "source": [
    "count=0;\n",
    "for i in range(10):\n",
    "    num=eval(input(\"enter number\"));\n",
    "    if num>5:\n",
    "        count+=1;\n",
    "print(\"There are \",count,\"numbers greater than 5\");\n",
    "        "
   ]
  },
  {
   "cell_type": "markdown",
   "metadata": {},
   "source": [
    "# Program to display the Fibonacci sequence up to n-th term\n",
    "count=0;\n",
    "n1,n2 =0,1\n",
    "num=eval(input(\"enter number of therms\"));\n",
    "if num<0:\n",
    "    print(\"please enter a positive number\")\n",
    "elif num==1:\n",
    "    print(\"fibbonacci series is\",num)\n",
    "else:\n",
    "    while(count<=num):\n",
    "        print(n1)\n",
    "        nth = n1 + n2\n",
    "        # update values\n",
    "        n1 = n2\n",
    "        n2 = nth\n",
    "        count += 1\n"
   ]
  },
  {
   "cell_type": "code",
   "execution_count": 3,
   "metadata": {},
   "outputs": [
    {
     "name": "stdout",
     "output_type": "stream",
     "text": [
      "enter number of therms56\n",
      "0\n",
      "1\n",
      "1\n",
      "2\n",
      "3\n",
      "5\n",
      "8\n",
      "13\n",
      "21\n",
      "34\n",
      "55\n",
      "89\n",
      "144\n",
      "233\n",
      "377\n",
      "610\n",
      "987\n",
      "1597\n",
      "2584\n",
      "4181\n",
      "6765\n",
      "10946\n",
      "17711\n",
      "28657\n",
      "46368\n",
      "75025\n",
      "121393\n",
      "196418\n",
      "317811\n",
      "514229\n",
      "832040\n",
      "1346269\n",
      "2178309\n",
      "3524578\n",
      "5702887\n",
      "9227465\n",
      "14930352\n",
      "24157817\n",
      "39088169\n",
      "63245986\n",
      "102334155\n",
      "165580141\n",
      "267914296\n",
      "433494437\n",
      "701408733\n",
      "1134903170\n",
      "1836311903\n",
      "2971215073\n",
      "4807526976\n",
      "7778742049\n",
      "12586269025\n",
      "20365011074\n",
      "32951280099\n",
      "53316291173\n",
      "86267571272\n",
      "139583862445\n",
      "225851433717\n"
     ]
    }
   ],
   "source": [
    "count=0;\n",
    "n1,n2 =0,1 \n",
    "num=eval(input(\"enter number of therms\")); \n",
    "if num<0: \n",
    "    print(\"please enter a positive number\") \n",
    "elif num==1: \n",
    "    print(\"fibbonacci series is\",num) \n",
    "else: \n",
    "    while(count<=num): \n",
    "        print(n1) \n",
    "        nth = n1 + n2\n",
    "        # update values\n",
    "        n1 = n2\n",
    "        n2 = nth\n",
    "        count += 1"
   ]
  },
  {
   "cell_type": "code",
   "execution_count": 69,
   "metadata": {},
   "outputs": [],
   "source": [
    "#swapping in PYTHON"
   ]
  },
  {
   "cell_type": "code",
   "execution_count": 4,
   "metadata": {},
   "outputs": [
    {
     "name": "stdout",
     "output_type": "stream",
     "text": [
      "20\n",
      "10\n"
     ]
    }
   ],
   "source": [
    "x=10\n",
    "y=20;\n",
    "x,y=y,x\n",
    "print(x)\n",
    "print(y)"
   ]
  },
  {
   "cell_type": "code",
   "execution_count": 71,
   "metadata": {},
   "outputs": [],
   "source": [
    "#min and maxes in python\n"
   ]
  },
  {
   "cell_type": "code",
   "execution_count": 1,
   "metadata": {},
   "outputs": [],
   "source": [
    "\n",
    "x=180\n",
    "y=40\n",
    "z=35\n",
    "\n",
    "if x>y:\n",
    "    maxi=x\n",
    "if maxi>y:\n",
    "    maxi=y\n",
    "if maxi>x:\n",
    "    maxi=z\n",
    "    "
   ]
  },
  {
   "cell_type": "code",
   "execution_count": 2,
   "metadata": {},
   "outputs": [
    {
     "name": "stdout",
     "output_type": "stream",
     "text": [
      "40\n"
     ]
    }
   ],
   "source": [
    "print(maxi)"
   ]
  },
  {
   "cell_type": "code",
   "execution_count": 3,
   "metadata": {},
   "outputs": [
    {
     "name": "stdout",
     "output_type": "stream",
     "text": [
      "hello word\n",
      "my wide world \n"
     ]
    }
   ],
   "source": [
    "#sSTRINGS IN PYTHON\n",
    "\n",
    "a=\"hello word\\n\"\n",
    "b=\"my wide world \"\n",
    "\n",
    "print(a+b)"
   ]
  },
  {
   "cell_type": "code",
   "execution_count": 5,
   "metadata": {},
   "outputs": [
    {
     "name": "stdout",
     "output_type": "stream",
     "text": [
      "hello word\n",
      "hello word\n",
      "hello word\n",
      "\n"
     ]
    }
   ],
   "source": [
    "print(a*3)"
   ]
  },
  {
   "cell_type": "code",
   "execution_count": 6,
   "metadata": {},
   "outputs": [
    {
     "name": "stdout",
     "output_type": "stream",
     "text": [
      "ENTER YOUR NAME: EDISON\n",
      "ENTER SECOND NAME: GACHOMO\n",
      "Your Name is: EDISON GACHOMO\n",
      "Your name has  14 long\n"
     ]
    }
   ],
   "source": [
    "first_name=input(\"ENTER YOUR NAME: \")\n",
    "secon_name=input(\"ENTER SECOND NAME: \")\n",
    "\n",
    "print(\"Your Name is:\",first_name+\" \"+secon_name)\n",
    "print(\"Your name has \",len(first_name+\" \"+secon_name),\"long\")"
   ]
  },
  {
   "cell_type": "code",
   "execution_count": 8,
   "metadata": {},
   "outputs": [
    {
     "name": "stdout",
     "output_type": "stream",
     "text": [
      "YOUR NAME has letter E\n"
     ]
    }
   ],
   "source": [
    "if \"G\" in first_name:\n",
    "    print(\"YOUR NAME has letter G\")\n",
    "if \"E\" in first_name:\n",
    "    print(\"YOUR NAME has letter E\")"
   ]
  },
  {
   "cell_type": "code",
   "execution_count": 83,
   "metadata": {},
   "outputs": [
    {
     "name": "stdout",
     "output_type": "stream",
     "text": [
      "ELL\n",
      "ELLO W\n",
      "EL \n",
      "EO\n",
      "EW\n",
      "E\n",
      "E\n",
      "DLROW OLLEH\n"
     ]
    }
   ],
   "source": [
    "#INDEXING IN STRINGS\n",
    "\n",
    "s=\"HELLO WORLD\"\n",
    "print(s[1:4])\n",
    "print(s[1:7:1])\n",
    "print(s[1:7:2])\n",
    "print(s[1:7:3])\n",
    "print(s[1:7:5])\n",
    "print(s[1:7:6])\n",
    "print(s[1:7:7])\n",
    "print(s[ : :-1])"
   ]
  },
  {
   "cell_type": "code",
   "execution_count": 84,
   "metadata": {},
   "outputs": [],
   "source": [
    "s=\"edjson\"\n",
    "s = s[:2] + 'i' + s[3:]"
   ]
  },
  {
   "cell_type": "code",
   "execution_count": 85,
   "metadata": {},
   "outputs": [
    {
     "name": "stdout",
     "output_type": "stream",
     "text": [
      "edison\n"
     ]
    }
   ],
   "source": [
    "print(s)"
   ]
  },
  {
   "cell_type": "code",
   "execution_count": 42,
   "metadata": {},
   "outputs": [
    {
     "name": "stdout",
     "output_type": "stream",
     "text": [
      "HXEXLXLX XYXAXHXH\n",
      "HXEXLXLX XYXAXHXE\n",
      "HXEXLXLX XYXAXHXL\n",
      "HXEXLXLX XYXAXHXL\n",
      "HXEXLXLX XYXAXHX \n",
      "HXEXLXLX XYXAXHXY\n",
      "HXEXLXLX XYXAXHXA\n",
      "HXEXLXLX XYXAXHXH\n"
     ]
    }
   ],
   "source": [
    "string=\"HELL YAH\"\n",
    "for i in range(len(string)):\n",
    "    for c in string:\n",
    "        print(c,end=\"X\")\n",
    "    print(string[i]);"
   ]
  },
  {
   "cell_type": "code",
   "execution_count": 44,
   "metadata": {},
   "outputs": [
    {
     "name": "stdout",
     "output_type": "stream",
     "text": [
      "hell yah\n"
     ]
    }
   ],
   "source": [
    "s=string.lower()\n",
    "print(s)"
   ]
  },
  {
   "cell_type": "code",
   "execution_count": 45,
   "metadata": {},
   "outputs": [
    {
     "name": "stdout",
     "output_type": "stream",
     "text": [
      "HELL YAH\n"
     ]
    }
   ],
   "source": [
    "s=string.upper()\n",
    "print(s)"
   ]
  },
  {
   "cell_type": "code",
   "execution_count": 50,
   "metadata": {},
   "outputs": [
    {
     "name": "stdout",
     "output_type": "stream",
     "text": [
      "HILL YAH\n"
     ]
    }
   ],
   "source": [
    "s=string.replace('E','I')\n",
    "print(s)"
   ]
  },
  {
   "cell_type": "code",
   "execution_count": 53,
   "metadata": {},
   "outputs": [
    {
     "name": "stdout",
     "output_type": "stream",
     "text": [
      "2\n"
     ]
    }
   ],
   "source": [
    "s=string.count('L' or 'l')\n",
    "print(s)"
   ]
  },
  {
   "cell_type": "code",
   "execution_count": 1,
   "metadata": {},
   "outputs": [
    {
     "name": "stdout",
     "output_type": "stream",
     "text": [
      "True\n",
      "False\n",
      "4\n"
     ]
    }
   ],
   "source": [
    "string=\"helloyou\"\n",
    "s=string.isalpha()\n",
    "print(s)\n",
    "h=\"edison2020\"\n",
    "s=h.isalpha()\n",
    "print(s)\n",
    "print(h.index('o'))"
   ]
  },
  {
   "cell_type": "code",
   "execution_count": 2,
   "metadata": {},
   "outputs": [
    {
     "name": "stdout",
     "output_type": "stream",
     "text": [
      "Enter some text: edison\n"
     ]
    }
   ],
   "source": [
    "s = input('Enter some text: ')\n",
    "for c in s:\n",
    "    doubled_s =c*2"
   ]
  },
  {
   "cell_type": "code",
   "execution_count": 3,
   "metadata": {},
   "outputs": [
    {
     "name": "stdout",
     "output_type": "stream",
     "text": [
      "Enter your message: hu\n",
      "gp"
     ]
    }
   ],
   "source": [
    "alphabet = 'abcdefghijklmnopqrstuvwxyz'\n",
    "key = 'xznlwebgjhqdyvtkfuompciasr'\n",
    "secret_message = input('Enter your message: ')\n",
    "secret_message = secret_message.lower()\n",
    "for c in secret_message:\n",
    "    if c.isalpha():\n",
    "        print(key[alphabet.index(c)],end='')\n",
    "    else:\n",
    "        print(c, end='')"
   ]
  },
  {
   "cell_type": "code",
   "execution_count": 10,
   "metadata": {},
   "outputs": [
    {
     "name": "stdout",
     "output_type": "stream",
     "text": [
      "enter name containing a:\n",
      "ayakahayakeba\n",
      "0\n",
      "2\n",
      "4\n",
      "6\n",
      "8\n",
      "12\n",
      "There are  6 As\n"
     ]
    }
   ],
   "source": [
    "count=0;\n",
    "s=input(\"enter name containing a:\\n\")\n",
    "for i in range(len(s)):\n",
    "    if s[i]=='a':\n",
    "        count+=1\n",
    "        print(i)\n",
    "print(\"There are \",count,\"As\");"
   ]
  },
  {
   "cell_type": "code",
   "execution_count": 16,
   "metadata": {},
   "outputs": [
    {
     "name": "stdout",
     "output_type": "stream",
     "text": [
      "Enter your decimal number: 23.56\n",
      "0.5599999999999987\n"
     ]
    }
   ],
   "source": [
    "from math import floor\n",
    "num = eval(input('Enter your decimal number: '))\n",
    "print(num - floor(num))"
   ]
  },
  {
   "cell_type": "code",
   "execution_count": 94,
   "metadata": {},
   "outputs": [],
   "source": [
    "list_1=[1,2,3,4,55,6,7,8,89,9,0];\n"
   ]
  },
  {
   "cell_type": "code",
   "execution_count": 95,
   "metadata": {},
   "outputs": [
    {
     "name": "stdout",
     "output_type": "stream",
     "text": [
      "[1, 2, 3, 4, 55]\n"
     ]
    }
   ],
   "source": [
    "del(list_1[5:])\n",
    "print(list_1)"
   ]
  },
  {
   "cell_type": "code",
   "execution_count": 85,
   "metadata": {},
   "outputs": [],
   "source": [
    "list_1.append(2)"
   ]
  },
  {
   "cell_type": "code",
   "execution_count": 86,
   "metadata": {},
   "outputs": [
    {
     "name": "stdout",
     "output_type": "stream",
     "text": [
      "[1, 2, 3, 4, 55, 6, 7, 8, 89, 9, 0, 2]\n"
     ]
    }
   ],
   "source": [
    "print(list_1)"
   ]
  },
  {
   "cell_type": "code",
   "execution_count": 87,
   "metadata": {},
   "outputs": [
    {
     "name": "stdout",
     "output_type": "stream",
     "text": [
      "2\n",
      "1\n",
      "[1, 2, 3, 4, 55, 6, 7, 8, 89, 9, 0, 4]\n"
     ]
    }
   ],
   "source": [
    "print(list_1.pop())\n",
    "print(list_1[0])\n",
    "list_1.append(4)\n",
    "print(list_1)\n",
    "list_1.insert(6,8)# insert(p,x) inserts x at index p of the list"
   ]
  },
  {
   "cell_type": "code",
   "execution_count": 88,
   "metadata": {},
   "outputs": [
    {
     "name": "stdout",
     "output_type": "stream",
     "text": [
      "0\n",
      "1 1\n",
      "2 2\n",
      "3 3\n",
      "4 4\n",
      "55 5\n",
      "6 6\n",
      "8 7\n",
      "7 8\n",
      "8 9\n",
      "89 10\n",
      "9 11\n",
      "0 12\n",
      "4 "
     ]
    }
   ],
   "source": [
    "for i in range(0,len(list_1)):\n",
    "    print(i)\n",
    "    print(list_1[i],end=\" \")\n",
    "    \n",
    "    "
   ]
  },
  {
   "cell_type": "code",
   "execution_count": 53,
   "metadata": {},
   "outputs": [
    {
     "name": "stdout",
     "output_type": "stream",
     "text": [
      "183\n",
      "89\n",
      "2\n",
      "9\n"
     ]
    }
   ],
   "source": [
    "print(sum(list_1))\n",
    "print(max(list_1))\n",
    "print(min(list_1))\n",
    "print(len(list_1))"
   ]
  },
  {
   "cell_type": "code",
   "execution_count": 3,
   "metadata": {},
   "outputs": [
    {
     "name": "stdout",
     "output_type": "stream",
     "text": [
      "What is the capital of France? paris\n",
      "Correct!\n",
      "Which state has only one neighbor? maine\n",
      "Correct!\n"
     ]
    }
   ],
   "source": [
    "num_right = 0\n",
    "# Question 1\n",
    "print('What is the capital of France?', end=' ')\n",
    "guess = input()\n",
    "if guess.lower()=='paris':\n",
    "    print('Correct!')\n",
    "    num_right+=1\n",
    "else:\n",
    "    print('Wrong. The answer is Paris.')\n",
    "    print('You have', num_right, 'out of 1 right')\n",
    "    #Question 2\n",
    "print('Which state has only one neighbor?', end=' ')\n",
    "guess = input()\n",
    "if guess.lower()=='maine':\n",
    "    print('Correct!')\n",
    "    num_right+=1\n",
    "else:\n",
    "    print('Wrong. The answer is Maine.')\n",
    "    print('You have', num_right, 'out of 2 right,')"
   ]
  },
  {
   "cell_type": "code",
   "execution_count": null,
   "metadata": {},
   "outputs": [],
   "source": [
    "#DICTIONARIES"
   ]
  },
  {
   "cell_type": "code",
   "execution_count": 1,
   "metadata": {},
   "outputs": [],
   "source": [
    "hello={23,45,78,22,75,235,86}"
   ]
  },
  {
   "cell_type": "code",
   "execution_count": 2,
   "metadata": {},
   "outputs": [
    {
     "name": "stdout",
     "output_type": "stream",
     "text": [
      "{75, 235, 45, 78, 22, 23, 86}\n"
     ]
    }
   ],
   "source": [
    "print(hello)"
   ]
  },
  {
   "cell_type": "code",
   "execution_count": 3,
   "metadata": {},
   "outputs": [
    {
     "name": "stdout",
     "output_type": "stream",
     "text": [
      "(0, 75)\n",
      "(1, 235)\n",
      "(2, 45)\n",
      "(3, 78)\n",
      "(4, 22)\n",
      "(5, 23)\n",
      "(6, 86)\n"
     ]
    }
   ],
   "source": [
    "for i in enumerate(hello):\n",
    "    print(i)"
   ]
  },
  {
   "cell_type": "code",
   "execution_count": 18,
   "metadata": {},
   "outputs": [
    {
     "name": "stdout",
     "output_type": "stream",
     "text": [
      "{56, 3}\n"
     ]
    }
   ],
   "source": [
    "hello={3,56}\n",
    "print(hello)"
   ]
  },
  {
   "cell_type": "code",
   "execution_count": 19,
   "metadata": {},
   "outputs": [
    {
     "name": "stdout",
     "output_type": "stream",
     "text": [
      "{'A': 45, 'B': 45, 'C': 78, 'D': 22, 'E': 75, 'F': 235, 'G': 86}\n"
     ]
    }
   ],
   "source": [
    "hello={'A':23,'B':45,'C':78,'D':22,'E':75,'F':235,'G':86}\n",
    "hello['A']=45  #edit dictionary properties\n",
    "print(hello)"
   ]
  },
  {
   "cell_type": "code",
   "execution_count": 20,
   "metadata": {},
   "outputs": [
    {
     "name": "stdout",
     "output_type": "stream",
     "text": [
      "{'A': 45, 'B': 45, 'C': 78, 'D': 22, 'E': 75, 'F': 235, 'G': 88}\n"
     ]
    }
   ],
   "source": [
    "hello['G']=88; #ADD element to the dictionary\n",
    "print(hello)"
   ]
  },
  {
   "cell_type": "code",
   "execution_count": null,
   "metadata": {},
   "outputs": [
    {
     "name": "stdout",
     "output_type": "stream",
     "text": [
      "Enter a word: dog\n",
      "The definition is: has a tail and goes woof!\n",
      "Enter a word: hel\n",
      "Not in the dictionary\n"
     ]
    }
   ],
   "source": [
    "\n",
    "d = {'dog' : 'has a tail and goes woof!','cat' : 'says meow','mouse' : 'chased by cats'}\n",
    "while 1:\n",
    "    word = input('Enter a word: ')\n",
    "    if word in d:\n",
    "        print('The definition is:', d[word])\n",
    "    else:\n",
    "        print(\"Not in the dictionary\")\n"
   ]
  },
  {
   "cell_type": "code",
   "execution_count": 5,
   "metadata": {},
   "outputs": [],
   "source": [
    "deck = [{'value':i, 'suit':c}\n",
    "for c in ['spades', 'clubs', 'hearts', 'diamonds']\n",
    "        for i in range(2,15)]"
   ]
  },
  {
   "cell_type": "code",
   "execution_count": null,
   "metadata": {},
   "outputs": [],
   "source": [
    "s=open('edison.txt','w')\n"
   ]
  },
  {
   "cell_type": "code",
   "execution_count": 6,
   "metadata": {},
   "outputs": [
    {
     "name": "stdout",
     "output_type": "stream",
     "text": [
      "[{'value': 2, 'suit': 'spades'}, {'value': 3, 'suit': 'spades'}, {'value': 4, 'suit': 'spades'}, {'value': 5, 'suit': 'spades'}, {'value': 6, 'suit': 'spades'}, {'value': 7, 'suit': 'spades'}, {'value': 8, 'suit': 'spades'}, {'value': 9, 'suit': 'spades'}, {'value': 10, 'suit': 'spades'}, {'value': 11, 'suit': 'spades'}, {'value': 12, 'suit': 'spades'}, {'value': 13, 'suit': 'spades'}, {'value': 14, 'suit': 'spades'}, {'value': 2, 'suit': 'clubs'}, {'value': 3, 'suit': 'clubs'}, {'value': 4, 'suit': 'clubs'}, {'value': 5, 'suit': 'clubs'}, {'value': 6, 'suit': 'clubs'}, {'value': 7, 'suit': 'clubs'}, {'value': 8, 'suit': 'clubs'}, {'value': 9, 'suit': 'clubs'}, {'value': 10, 'suit': 'clubs'}, {'value': 11, 'suit': 'clubs'}, {'value': 12, 'suit': 'clubs'}, {'value': 13, 'suit': 'clubs'}, {'value': 14, 'suit': 'clubs'}, {'value': 2, 'suit': 'hearts'}, {'value': 3, 'suit': 'hearts'}, {'value': 4, 'suit': 'hearts'}, {'value': 5, 'suit': 'hearts'}, {'value': 6, 'suit': 'hearts'}, {'value': 7, 'suit': 'hearts'}, {'value': 8, 'suit': 'hearts'}, {'value': 9, 'suit': 'hearts'}, {'value': 10, 'suit': 'hearts'}, {'value': 11, 'suit': 'hearts'}, {'value': 12, 'suit': 'hearts'}, {'value': 13, 'suit': 'hearts'}, {'value': 14, 'suit': 'hearts'}, {'value': 2, 'suit': 'diamonds'}, {'value': 3, 'suit': 'diamonds'}, {'value': 4, 'suit': 'diamonds'}, {'value': 5, 'suit': 'diamonds'}, {'value': 6, 'suit': 'diamonds'}, {'value': 7, 'suit': 'diamonds'}, {'value': 8, 'suit': 'diamonds'}, {'value': 9, 'suit': 'diamonds'}, {'value': 10, 'suit': 'diamonds'}, {'value': 11, 'suit': 'diamonds'}, {'value': 12, 'suit': 'diamonds'}, {'value': 13, 'suit': 'diamonds'}, {'value': 14, 'suit': 'diamonds'}]\n"
     ]
    }
   ],
   "source": [
    "print(deck)"
   ]
  },
  {
   "cell_type": "code",
   "execution_count": 16,
   "metadata": {},
   "outputs": [
    {
     "name": "stdout",
     "output_type": "stream",
     "text": [
      "Input number of terms in the series8\n",
      "0\n",
      "1\n",
      "1\n",
      "2\n",
      "3\n",
      "5\n",
      "8\n",
      "13\n",
      "21\n"
     ]
    }
   ],
   "source": [
    "#0,1,1,2,3,5,8,11,19,30\n",
    "\n",
    "count=0;\n",
    "n1,n2=0,1\n",
    "num=eval(input(\"Input number of terms in the series\"))\n",
    "if(num<0):\n",
    "    print(\"ENTER POSITIVE NUMBER\")\n",
    "if(num==1):\n",
    "    print(\"fibonaci number is \",num)\n",
    "while(count<=num):\n",
    "    print(n1)\n",
    "    n=n1+n2\n",
    "    n1=n2\n",
    "    n2=n\n",
    "    count+=1;"
   ]
  },
  {
   "cell_type": "code",
   "execution_count": 35,
   "metadata": {},
   "outputs": [],
   "source": [
    "list=[]\n"
   ]
  },
  {
   "cell_type": "code",
   "execution_count": 36,
   "metadata": {},
   "outputs": [],
   "source": [
    "list.append(9)"
   ]
  },
  {
   "cell_type": "code",
   "execution_count": 37,
   "metadata": {},
   "outputs": [
    {
     "name": "stdout",
     "output_type": "stream",
     "text": [
      "[9]\n"
     ]
    }
   ],
   "source": [
    "print(list)"
   ]
  },
  {
   "cell_type": "code",
   "execution_count": 29,
   "metadata": {},
   "outputs": [],
   "source": [
    "list2=[23,54,23,14]"
   ]
  },
  {
   "cell_type": "code",
   "execution_count": 38,
   "metadata": {},
   "outputs": [],
   "source": [
    "list.append(list2[2:])"
   ]
  },
  {
   "cell_type": "code",
   "execution_count": 39,
   "metadata": {},
   "outputs": [
    {
     "name": "stdout",
     "output_type": "stream",
     "text": [
      "[9, [23, 14]]\n"
     ]
    }
   ],
   "source": [
    "print(list)"
   ]
  },
  {
   "cell_type": "code",
   "execution_count": 62,
   "metadata": {},
   "outputs": [
    {
     "name": "stdout",
     "output_type": "stream",
     "text": [
      "A B C D E F G H I J K L M N O P Q R S T U V W X Y Z "
     ]
    }
   ],
   "source": [
    "list=['A','B','C','D','E','F','G','H','I','J','K','L','M','N','O','P','Q','R','S','T','U','V','W','X','Y','Z']\n",
    "for i in range(0,26):\n",
    "    print(list[i],end=' ')"
   ]
  },
  {
   "cell_type": "code",
   "execution_count": 57,
   "metadata": {},
   "outputs": [
    {
     "name": "stdout",
     "output_type": "stream",
     "text": [
      "None\n"
     ]
    }
   ],
   "source": [
    "print(list.reverse())"
   ]
  },
  {
   "cell_type": "code",
   "execution_count": 58,
   "metadata": {},
   "outputs": [
    {
     "name": "stdout",
     "output_type": "stream",
     "text": [
      "None\n"
     ]
    }
   ],
   "source": [
    "list=[23,63,72,31,22]"
   ]
  },
  {
   "cell_type": "code",
   "execution_count": 59,
   "metadata": {},
   "outputs": [
    {
     "ename": "AttributeError",
     "evalue": "'list' object has no attribute 'max'",
     "output_type": "error",
     "traceback": [
      "\u001b[1;31m---------------------------------------------------------------------------\u001b[0m",
      "\u001b[1;31mAttributeError\u001b[0m                            Traceback (most recent call last)",
      "\u001b[1;32m<ipython-input-59-0f96829d2058>\u001b[0m in \u001b[0;36m<module>\u001b[1;34m\u001b[0m\n\u001b[1;32m----> 1\u001b[1;33m \u001b[0mlist\u001b[0m\u001b[1;33m.\u001b[0m\u001b[0mmax\u001b[0m\u001b[1;33m(\u001b[0m\u001b[1;33m)\u001b[0m\u001b[1;33m\u001b[0m\u001b[1;33m\u001b[0m\u001b[0m\n\u001b[0m",
      "\u001b[1;31mAttributeError\u001b[0m: 'list' object has no attribute 'max'"
     ]
    }
   ],
   "source": [
    "list.max()"
   ]
  },
  {
   "cell_type": "code",
   "execution_count": 100,
   "metadata": {},
   "outputs": [],
   "source": [
    "list1=[1,2,3,7]\n",
    "list2=[1,2,2,4]\n",
    "list3=list1+list2"
   ]
  },
  {
   "cell_type": "code",
   "execution_count": 101,
   "metadata": {},
   "outputs": [],
   "source": [
    "list1.sort(reverse=True)"
   ]
  },
  {
   "cell_type": "code",
   "execution_count": 102,
   "metadata": {},
   "outputs": [
    {
     "name": "stdout",
     "output_type": "stream",
     "text": [
      "[7, 3, 2, 1]\n"
     ]
    }
   ],
   "source": [
    "print(list1)"
   ]
  },
  {
   "cell_type": "code",
   "execution_count": 79,
   "metadata": {},
   "outputs": [
    {
     "name": "stdout",
     "output_type": "stream",
     "text": [
      "[1, 2, 3, 7, 1, 2, 2, 4]\n"
     ]
    }
   ],
   "source": [
    "print(list3)"
   ]
  },
  {
   "cell_type": "code",
   "execution_count": 80,
   "metadata": {},
   "outputs": [
    {
     "name": "stdout",
     "output_type": "stream",
     "text": [
      "list 1 [1, 2, 3, 7]\n"
     ]
    }
   ],
   "source": [
    "if(list1>list2):\n",
    "    print(\"list 1\",list1)\n",
    "else:\n",
    "    print(\"list 2\",list2)"
   ]
  },
  {
   "cell_type": "code",
   "execution_count": 82,
   "metadata": {},
   "outputs": [
    {
     "name": "stdout",
     "output_type": "stream",
     "text": [
      "2\n"
     ]
    }
   ],
   "source": [
    "print(list3.count(1))"
   ]
  },
  {
   "cell_type": "code",
   "execution_count": 88,
   "metadata": {},
   "outputs": [
    {
     "name": "stdout",
     "output_type": "stream",
     "text": [
      "edison\n"
     ]
    }
   ],
   "source": [
    "s=\"edikon\"\n",
    "s=s[:3]+'s'+s[4:]\n",
    "print(s)"
   ]
  },
  {
   "cell_type": "code",
   "execution_count": 92,
   "metadata": {},
   "outputs": [
    {
     "name": "stdout",
     "output_type": "stream",
     "text": [
      "{'b': 1, 'r': 2, 'o': 2, 'n': 1, 't': 1, 's': 2, 'a': 1, 'u': 2}\n"
     ]
    }
   ],
   "source": [
    "word = 'brontosaurus'\n",
    "d = dict()\n",
    "for c in word:\n",
    "    if c in d:\n",
    "       d[c] = d[c] + 1\n",
    "    else:\n",
    "        d[c] = 1\n",
    "        \n",
    "print(d)"
   ]
  },
  {
   "cell_type": "code",
   "execution_count": 94,
   "metadata": {},
   "outputs": [],
   "source": [
    "d={'A':200,'B':432,'C':800}"
   ]
  },
  {
   "cell_type": "code",
   "execution_count": 95,
   "metadata": {},
   "outputs": [
    {
     "name": "stdout",
     "output_type": "stream",
     "text": [
      "200\n"
     ]
    }
   ],
   "source": [
    "print(d['A'])"
   ]
  },
  {
   "cell_type": "code",
   "execution_count": null,
   "metadata": {},
   "outputs": [],
   "source": [
    "d"
   ]
  }
 ],
 "metadata": {
  "kernelspec": {
   "display_name": "Python 3",
   "language": "python",
   "name": "python3"
  },
  "language_info": {
   "codemirror_mode": {
    "name": "ipython",
    "version": 3
   },
   "file_extension": ".py",
   "mimetype": "text/x-python",
   "name": "python",
   "nbconvert_exporter": "python",
   "pygments_lexer": "ipython3",
   "version": "3.7.4"
  }
 },
 "nbformat": 4,
 "nbformat_minor": 2
}
