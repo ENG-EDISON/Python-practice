{
 "cells": [
  {
   "cell_type": "code",
   "execution_count": 59,
   "metadata": {},
   "outputs": [],
   "source": [
    "import numpy as np"
   ]
  },
  {
   "cell_type": "code",
   "execution_count": 60,
   "metadata": {},
   "outputs": [
    {
     "name": "stdout",
     "output_type": "stream",
     "text": [
      "[4.8   1.21  2.385]\n"
     ]
    }
   ],
   "source": [
    "inputs=[1,2,3,2.5]#the shape(1,4)\n",
    "\n",
    "weights=[[0.2,0.8,-0.5,1.0],\n",
    "        [0.5,-0.91,0.26,-0.5],\n",
    "        [-0.26,-0.27,0.17,0.87]]\n",
    "\n",
    "biases=[2,3,0.5]\n",
    "output=np.dot(weights,inputs)+biases\n",
    "print(output)\n"
   ]
  },
  {
   "cell_type": "code",
   "execution_count": null,
   "metadata": {},
   "outputs": [],
   "source": []
  },
  {
   "cell_type": "code",
   "execution_count": 61,
   "metadata": {},
   "outputs": [],
   "source": [
    "####idea of batches of data\n"
   ]
  },
  {
   "cell_type": "code",
   "execution_count": 62,
   "metadata": {},
   "outputs": [
    {
     "name": "stdout",
     "output_type": "stream",
     "text": [
      "[[4.8   1.21  2.385]\n",
      " [7.1   2.42  0.23 ]\n",
      " [1.41  1.051 0.026]]\n"
     ]
    }
   ],
   "source": [
    "inputs=[[1,2,3,2.5],\n",
    "       [5.0,2.0,-1.0,2.0],\n",
    "        [-1.5,2.7,3.3,-0.8]]\n",
    "        \n",
    "\n",
    "weights=[[0.2,0.8,-0.5,1.0],\n",
    "        [0.5,-0.91,0.26,-0.5],\n",
    "        [-0.26,-0.27,0.17,0.87]]\n",
    "\n",
    "biases=[2,3,0.5]\n",
    "\n",
    "output=np.dot(inputs,np.array(weights).T)+biases\n",
    "\n",
    "print(output)"
   ]
  },
  {
   "cell_type": "code",
   "execution_count": 63,
   "metadata": {},
   "outputs": [],
   "source": [
    "#adding another weight"
   ]
  },
  {
   "cell_type": "code",
   "execution_count": 64,
   "metadata": {},
   "outputs": [
    {
     "name": "stdout",
     "output_type": "stream",
     "text": [
      "[[4.8   1.21  2.385]\n",
      " [7.1   2.42  0.23 ]\n",
      " [1.41  1.051 0.026]]\n",
      "\n",
      "\n",
      "[[ 0.5031  -1.04185 -2.03875]\n",
      " [-0.5138  -1.3355  -1.8873 ]\n",
      " [-0.99314  1.41254 -0.35655]]\n"
     ]
    }
   ],
   "source": [
    "inputs=[[1,2,3,2.5],\n",
    "       [5.0,2.0,-1.0,2.0],\n",
    "        [-1.5,2.7,3.3,-0.8]]\n",
    "        \n",
    "\n",
    "weights=[[0.2,0.8,-0.5,1.0],\n",
    "        [0.5,-0.91,0.26,-0.5],\n",
    "        [-0.26,-0.27,0.17,0.87]]\n",
    "\n",
    "biases=[2,3,0.5]\n",
    "\n",
    "weights1=[[0.1,-0.14,0.5],\n",
    "        [-0.5,0.12,-0.33],\n",
    "        [-0.44,0.73,-0.13]]\n",
    "\n",
    "biases2=[-1,2,-0.5]\n",
    "\n",
    "Layer_1_output=np.dot(inputs,np.array(weights).T)+biases\n",
    "Layer_2_output=np.dot(Layer_1_output,np.array(weights1).T)+biases2\n",
    "print(Layer_1_output)\n",
    "print('\\n')\n",
    "print(Layer_2_output)"
   ]
  },
  {
   "cell_type": "code",
   "execution_count": 65,
   "metadata": {},
   "outputs": [],
   "source": [
    "#moving to object oriented programming in python"
   ]
  },
  {
   "cell_type": "code",
   "execution_count": 75,
   "metadata": {},
   "outputs": [
    {
     "name": "stdout",
     "output_type": "stream",
     "text": [
      "self.n_weights\n",
      "[[ 0.01764052  0.00400157  0.00978738  0.02240893  0.01867558]\n",
      " [-0.00977278  0.00950088 -0.00151357 -0.00103219  0.00410599]\n",
      " [ 0.00144044  0.01454274  0.00761038  0.00121675  0.00443863]\n",
      " [ 0.00333674  0.01494079 -0.00205158  0.00313068 -0.00854096]]\n",
      "self.n_biases\n",
      "[[0. 0. 0. 0. 0.]]\n",
      "self.n_weights\n",
      "[[-0.0255299   0.00653619]\n",
      " [ 0.00864436 -0.00742165]\n",
      " [ 0.02269755 -0.01454366]\n",
      " [ 0.00045759 -0.00187184]\n",
      " [ 0.01532779  0.01469359]]\n",
      "self.n_biases\n",
      "[[0. 0.]]\n",
      "[[ 0.01075813  0.10398352  0.02446241  0.0318215   0.01885105]\n",
      " [ 0.07389011  0.05434848  0.03419621  0.11502489  0.08006932]\n",
      " [-0.05076324  0.05568842  0.0079878  -0.03488957  0.00455304]]\n",
      "\n",
      "\n",
      "[[ 0.00148296 -0.00083976]\n",
      " [ 0.00063949  0.00054346]\n",
      " [ 0.0020125  -0.00072906]]\n"
     ]
    }
   ],
   "source": [
    "import numpy as np\n",
    "np.random.seed(0)\n",
    "\n",
    "\n",
    "X=[[1,2,3,2.5],\n",
    "       [5.0,2.0,-1.0,2.0],\n",
    "        [-1.5,2.7,3.3,-0.8]]\n",
    "\n",
    "class layer_dense:\n",
    "    def __init__(self,n_inputs,n_neurons):\n",
    "        self.n_weights=0.01*np.random.randn(n_inputs,n_neurons)\n",
    "        print(\"self.n_weights\")\n",
    "        print(self.n_weights)\n",
    "        self.n_biases=np.zeros((1,n_neurons))\n",
    "        print(\"self.n_biases\")\n",
    "        print(self.n_biases)\n",
    "    def forward(self,inputs):\n",
    "        self.output=np.dot(inputs,self.n_weights)+self.n_biases\n",
    "        \n",
    "            \n",
    "layer1=layer_dense(4,5)\n",
    "layer2=layer_dense(5,2)\n",
    "layer1.forward(X)\n",
    "print(layer1.output)\n",
    "print('\\n')\n",
    "layer2.forward(layer1.output)\n",
    "print(layer2.output)\n",
    "\n",
    "        \n",
    "        \n",
    "        \n",
    "        "
   ]
  },
  {
   "cell_type": "code",
   "execution_count": null,
   "metadata": {},
   "outputs": [],
   "source": [
    "#########ACTIVATION FUNCTIONS"
   ]
  },
  {
   "cell_type": "code",
   "execution_count": null,
   "metadata": {},
   "outputs": [],
   "source": [
    "##RECTIFIED LINEAR(RELU FUNCTION)"
   ]
  },
  {
   "cell_type": "code",
   "execution_count": 76,
   "metadata": {},
   "outputs": [
    {
     "name": "stdout",
     "output_type": "stream",
     "text": [
      "[0, 2, 0, 3.3, 0, 1.1, 2.2, 0]\n"
     ]
    }
   ],
   "source": [
    "inputs=[0,2,-1,3.3,-2.7,1.1,2.2,-100]\n",
    "output=[]\n",
    "for i in inputs:\n",
    "    if i>0:\n",
    "        output.append(i)\n",
    "    if i<=0:\n",
    "        output.append(0)\n",
    "        \n",
    "print(output)"
   ]
  },
  {
   "cell_type": "code",
   "execution_count": 78,
   "metadata": {},
   "outputs": [
    {
     "name": "stdout",
     "output_type": "stream",
     "text": [
      "[0, 2, 0, 3.3, 0, 1.1, 2.2, 0]\n"
     ]
    }
   ],
   "source": [
    "#ANOTHER WAY TO DO IT\n",
    "inputs=[0,2,-1,3.3,-2.7,1.1,2.2,-100]\n",
    "output=[]\n",
    "for i in inputs:\n",
    "        output.append(max(0,i));\n",
    "print(output) "
   ]
  },
  {
   "cell_type": "code",
   "execution_count": 84,
   "metadata": {},
   "outputs": [],
   "source": [
    "##RELU OBJECT\n",
    "\n",
    "inputs=[0,2,-1,3.3,-2.7,1.1,2.2,-100]\n",
    "\n",
    "class Activation_ReLU:\n",
    "    def foward(self,inputs):\n",
    "        self.output=np.maximum(0,inputs)\n"
   ]
  },
  {
   "cell_type": "code",
   "execution_count": 85,
   "metadata": {},
   "outputs": [
    {
     "name": "stdout",
     "output_type": "stream",
     "text": [
      "Requirement already satisfied: nnfs in c:\\users\\user\\anaconda3\\lib\\site-packages (0.5.1)\n",
      "Requirement already satisfied: numpy in c:\\users\\user\\anaconda3\\lib\\site-packages (from nnfs) (1.16.5)\n",
      "Note: you may need to restart the kernel to use updated packages.\n"
     ]
    }
   ],
   "source": [
    "pip install nnfs\n"
   ]
  },
  {
   "cell_type": "code",
   "execution_count": null,
   "metadata": {},
   "outputs": [],
   "source": []
  }
 ],
 "metadata": {
  "kernelspec": {
   "display_name": "Python 3",
   "language": "python",
   "name": "python3"
  },
  "language_info": {
   "codemirror_mode": {
    "name": "ipython",
    "version": 3
   },
   "file_extension": ".py",
   "mimetype": "text/x-python",
   "name": "python",
   "nbconvert_exporter": "python",
   "pygments_lexer": "ipython3",
   "version": "3.7.4"
  }
 },
 "nbformat": 4,
 "nbformat_minor": 2
}
